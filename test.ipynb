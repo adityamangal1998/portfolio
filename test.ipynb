{
 "cells": [
  {
   "cell_type": "code",
   "execution_count": 3,
   "id": "6bb41d07",
   "metadata": {},
   "outputs": [
    {
     "name": "stdout",
     "output_type": "stream",
     "text": [
      "Credentials not available.\n"
     ]
    },
    {
     "data": {
      "text/plain": [
       "False"
      ]
     },
     "execution_count": 3,
     "metadata": {},
     "output_type": "execute_result"
    }
   ],
   "source": [
    "import boto3\n",
    "from botocore.exceptions import NoCredentialsError, ClientError\n",
    "\n",
    "def check_s3_bucket_access(bucket_name, file_path, object_name=None):\n",
    "    s3 = boto3.client('s3')\n",
    "    if object_name is None:\n",
    "        object_name = file_path.split('/')[-1]\n",
    "    try:\n",
    "        s3.upload_file(file_path, bucket_name, object_name)\n",
    "        print(f\"Upload successful: {object_name} to bucket {bucket_name}\")\n",
    "        return True\n",
    "    except FileNotFoundError:\n",
    "        print(\"The file was not found.\")\n",
    "        return False\n",
    "    except NoCredentialsError:\n",
    "        print(\"Credentials not available.\")\n",
    "        return False\n",
    "    except ClientError as e:\n",
    "        print(f\"Client error: {e}\")\n",
    "        return False\n",
    "\n",
    "# Example usage:\n",
    "# Replace 'your-bucket-name' with your S3 bucket name\n",
    "# Replace 'path/to/your/resume.pdf' with the path to your resume file\n",
    "check_s3_bucket_access('app-food-images-bucket', 'Aditya_Mangal_Resume_2.pdf')"
   ]
  },
  {
   "cell_type": "code",
   "execution_count": null,
   "id": "669ac802",
   "metadata": {},
   "outputs": [],
   "source": []
  }
 ],
 "metadata": {
  "kernelspec": {
   "display_name": "myenv",
   "language": "python",
   "name": "python3"
  },
  "language_info": {
   "codemirror_mode": {
    "name": "ipython",
    "version": 3
   },
   "file_extension": ".py",
   "mimetype": "text/x-python",
   "name": "python",
   "nbconvert_exporter": "python",
   "pygments_lexer": "ipython3",
   "version": "3.10.16"
  }
 },
 "nbformat": 4,
 "nbformat_minor": 5
}
